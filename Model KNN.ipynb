{
 "cells": [
  {
   "cell_type": "code",
   "execution_count": 56,
   "metadata": {},
   "outputs": [],
   "source": [
    "import pandas as pd\n",
    "import numpy as np\n",
    "import matplotlib.pyplot as plt"
   ]
  },
  {
   "cell_type": "code",
   "execution_count": 2,
   "metadata": {},
   "outputs": [],
   "source": [
    "df_test = pd.read_csv('test.csv')\n",
    "df = pd.read_csv('train.csv')\n",
    "\n",
    "df.fillna(method='ffill', inplace=True)"
   ]
  },
  {
   "cell_type": "code",
   "execution_count": 57,
   "metadata": {},
   "outputs": [
    {
     "data": {
      "text/plain": [
       "1    390\n",
       "0    376\n",
       "2    375\n",
       "3    359\n",
       "Name: price_range, dtype: int64"
      ]
     },
     "execution_count": 57,
     "metadata": {},
     "output_type": "execute_result"
    }
   ],
   "source": [
    "df['price_range'].value_counts()"
   ]
  },
  {
   "cell_type": "code",
   "execution_count": 58,
   "metadata": {},
   "outputs": [
    {
     "data": {
      "image/png": "[encoded data removed]",
      "text/plain": [
       "<Figure size 432x288 with 1 Axes>"
      ]
     },
     "metadata": {
      "needs_background": "light"
     },
     "output_type": "display_data"
    }
   ],
   "source": [
    "df['price_range'].value_counts().plot.bar()\n",
    "plt.tight_layout()\n",
    "plt.show()"
   ]
  },
  {
   "cell_type": "code",
   "execution_count": 3,
   "metadata": {},
   "outputs": [],
   "source": [
    "fourg = {\n",
    "    'Tidak': 0,\n",
    "    'Ya': 1\n",
    "}\n",
    "\n",
    "price = {\n",
    "    '0-<1000k': 0,\n",
    "    '1000k-<2000k': 1,\n",
    "    '2000k-3000k': 2,\n",
    "    '>3000k': 3\n",
    "}"
   ]
  },
  {
   "cell_type": "code",
   "execution_count": 4,
   "metadata": {},
   "outputs": [],
   "source": [
    "df['four_g'] = df['four_g'].replace(fourg)\n",
    "df['price_range'] = df['price_range'].replace(price)\n",
    "\n",
    "df_test['four_g'] = df['four_g'].replace(fourg)"
   ]
  },
  {
   "cell_type": "code",
   "execution_count": 5,
   "metadata": {},
   "outputs": [],
   "source": [
    "X = df.drop([ 'price_range'], axis=1)\n",
    "y = df['price_range']\n",
    "\n",
    "# data uji\n",
    "X_new = df_test"
   ]
  },
  {
   "cell_type": "code",
   "execution_count": 55,
   "metadata": {},
   "outputs": [
    {
     "name": "stdout",
     "output_type": "stream",
     "text": [
      "Data X hasil drop\n"
     ]
    },
    {
     "data": {
      "text/html": [
       "<div>\n",
       "<style scoped>\n",
       "    .dataframe tbody tr th:only-of-type {\n",
       "        vertical-align: middle;\n",
       "    }\n",
       "\n",
       "    .dataframe tbody tr th {\n",
       "        vertical-align: top;\n",
       "    }\n",
       "\n",
       "    .dataframe thead th {\n",
       "        text-align: right;\n",
       "    }\n",
       "</style>\n",
       "<table border=\"1\" class=\"dataframe\">\n",
       "  <thead>\n",
       "    <tr style=\"text-align: right;\">\n",
       "      <th></th>\n",
       "      <th>index</th>\n",
       "      <th>daya_baterai</th>\n",
       "      <th>bluetooth</th>\n",
       "      <th>kecepatan_clock</th>\n",
       "      <th>dual_sim</th>\n",
       "      <th>kamera_depan</th>\n",
       "      <th>four_g</th>\n",
       "      <th>memori_internal</th>\n",
       "      <th>tebal_hp</th>\n",
       "      <th>berat_hp</th>\n",
       "      <th>...</th>\n",
       "      <th>kamera_belakang_mp</th>\n",
       "      <th>px_panjang</th>\n",
       "      <th>px_lebar</th>\n",
       "      <th>kapasitas_ram</th>\n",
       "      <th>panjang_layar</th>\n",
       "      <th>lebar_layar</th>\n",
       "      <th>waktu_telfon</th>\n",
       "      <th>three_g</th>\n",
       "      <th>touch_screen</th>\n",
       "      <th>wifi</th>\n",
       "    </tr>\n",
       "  </thead>\n",
       "  <tbody>\n",
       "    <tr>\n",
       "      <th>0</th>\n",
       "      <td>1045</td>\n",
       "      <td>531</td>\n",
       "      <td>0</td>\n",
       "      <td>1.1</td>\n",
       "      <td>0</td>\n",
       "      <td>10</td>\n",
       "      <td>0</td>\n",
       "      <td>63</td>\n",
       "      <td>0.7</td>\n",
       "      <td>189</td>\n",
       "      <td>...</td>\n",
       "      <td>14</td>\n",
       "      <td>145</td>\n",
       "      <td>1903</td>\n",
       "      <td>2958</td>\n",
       "      <td>17.0</td>\n",
       "      <td>1</td>\n",
       "      <td>19</td>\n",
       "      <td>0</td>\n",
       "      <td>1</td>\n",
       "      <td>0</td>\n",
       "    </tr>\n",
       "    <tr>\n",
       "      <th>1</th>\n",
       "      <td>937</td>\n",
       "      <td>764</td>\n",
       "      <td>1</td>\n",
       "      <td>1.2</td>\n",
       "      <td>1</td>\n",
       "      <td>1</td>\n",
       "      <td>0</td>\n",
       "      <td>13</td>\n",
       "      <td>1.0</td>\n",
       "      <td>152</td>\n",
       "      <td>...</td>\n",
       "      <td>2</td>\n",
       "      <td>361</td>\n",
       "      <td>511</td>\n",
       "      <td>3148</td>\n",
       "      <td>18.0</td>\n",
       "      <td>7</td>\n",
       "      <td>6</td>\n",
       "      <td>1</td>\n",
       "      <td>1</td>\n",
       "      <td>0</td>\n",
       "    </tr>\n",
       "    <tr>\n",
       "      <th>2</th>\n",
       "      <td>1658</td>\n",
       "      <td>1812</td>\n",
       "      <td>1</td>\n",
       "      <td>1.3</td>\n",
       "      <td>1</td>\n",
       "      <td>4</td>\n",
       "      <td>1</td>\n",
       "      <td>42</td>\n",
       "      <td>1.0</td>\n",
       "      <td>162</td>\n",
       "      <td>...</td>\n",
       "      <td>15</td>\n",
       "      <td>380</td>\n",
       "      <td>1550</td>\n",
       "      <td>3338</td>\n",
       "      <td>18.0</td>\n",
       "      <td>13</td>\n",
       "      <td>11</td>\n",
       "      <td>1</td>\n",
       "      <td>1</td>\n",
       "      <td>1</td>\n",
       "    </tr>\n",
       "    <tr>\n",
       "      <th>3</th>\n",
       "      <td>529</td>\n",
       "      <td>1821</td>\n",
       "      <td>0</td>\n",
       "      <td>0.9</td>\n",
       "      <td>0</td>\n",
       "      <td>9</td>\n",
       "      <td>1</td>\n",
       "      <td>12</td>\n",
       "      <td>0.3</td>\n",
       "      <td>114</td>\n",
       "      <td>...</td>\n",
       "      <td>18</td>\n",
       "      <td>97</td>\n",
       "      <td>1803</td>\n",
       "      <td>2430</td>\n",
       "      <td>7.0</td>\n",
       "      <td>4</td>\n",
       "      <td>6</td>\n",
       "      <td>1</td>\n",
       "      <td>1</td>\n",
       "      <td>1</td>\n",
       "    </tr>\n",
       "    <tr>\n",
       "      <th>4</th>\n",
       "      <td>895</td>\n",
       "      <td>1790</td>\n",
       "      <td>1</td>\n",
       "      <td>2.3</td>\n",
       "      <td>1</td>\n",
       "      <td>3</td>\n",
       "      <td>1</td>\n",
       "      <td>49</td>\n",
       "      <td>0.5</td>\n",
       "      <td>100</td>\n",
       "      <td>...</td>\n",
       "      <td>11</td>\n",
       "      <td>396</td>\n",
       "      <td>1980</td>\n",
       "      <td>3568</td>\n",
       "      <td>6.0</td>\n",
       "      <td>2</td>\n",
       "      <td>18</td>\n",
       "      <td>1</td>\n",
       "      <td>0</td>\n",
       "      <td>1</td>\n",
       "    </tr>\n",
       "  </tbody>\n",
       "</table>\n",
       "<p>5 rows × 21 columns</p>\n",
       "</div>"
      ],
      "text/plain": [
       "   index  daya_baterai  bluetooth  kecepatan_clock  dual_sim  kamera_depan  \\\n",
       "0   1045           531          0              1.1         0            10   \n",
       "1    937           764          1              1.2         1             1   \n",
       "2   1658          1812          1              1.3         1             4   \n",
       "3    529          1821          0              0.9         0             9   \n",
       "4    895          1790          1              2.3         1             3   \n",
       "\n",
       "   four_g  memori_internal  tebal_hp  berat_hp  ...  kamera_belakang_mp  \\\n",
       "0       0               63       0.7       189  ...                  14   \n",
       "1       0               13       1.0       152  ...                   2   \n",
       "2       1               42       1.0       162  ...                  15   \n",
       "3       1               12       0.3       114  ...                  18   \n",
       "4       1               49       0.5       100  ...                  11   \n",
       "\n",
       "   px_panjang  px_lebar  kapasitas_ram  panjang_layar  lebar_layar  \\\n",
       "0         145      1903           2958           17.0            1   \n",
       "1         361       511           3148           18.0            7   \n",
       "2         380      1550           3338           18.0           13   \n",
       "3          97      1803           2430            7.0            4   \n",
       "4         396      1980           3568            6.0            2   \n",
       "\n",
       "   waktu_telfon  three_g  touch_screen  wifi  \n",
       "0            19        0             1     0  \n",
       "1             6        1             1     0  \n",
       "2            11        1             1     1  \n",
       "3             6        1             1     1  \n",
       "4            18        1             0     1  \n",
       "\n",
       "[5 rows x 21 columns]"
      ]
     },
     "metadata": {},
     "output_type": "display_data"
    },
    {
     "name": "stdout",
     "output_type": "stream",
     "text": [
      "Data price range dari data x\n"
     ]
    },
    {
     "data": {
      "text/plain": [
       "0    2\n",
       "1    2\n",
       "2    3\n",
       "3    2\n",
       "4    3\n",
       "Name: price_range, dtype: int64"
      ]
     },
     "metadata": {},
     "output_type": "display_data"
    },
    {
     "name": "stdout",
     "output_type": "stream",
     "text": [
      "Data yang akan diprediksi\n"
     ]
    },
    {
     "data": {
      "text/html": [
       "<div>\n",
       "<style scoped>\n",
       "    .dataframe tbody tr th:only-of-type {\n",
       "        vertical-align: middle;\n",
       "    }\n",
       "\n",
       "    .dataframe tbody tr th {\n",
       "        vertical-align: top;\n",
       "    }\n",
       "\n",
       "    .dataframe thead th {\n",
       "        text-align: right;\n",
       "    }\n",
       "</style>\n",
       "<table border=\"1\" class=\"dataframe\">\n",
       "  <thead>\n",
       "    <tr style=\"text-align: right;\">\n",
       "      <th></th>\n",
       "      <th>index</th>\n",
       "      <th>daya_baterai</th>\n",
       "      <th>bluetooth</th>\n",
       "      <th>kecepatan_clock</th>\n",
       "      <th>dual_sim</th>\n",
       "      <th>kamera_depan</th>\n",
       "      <th>four_g</th>\n",
       "      <th>memori_internal</th>\n",
       "      <th>tebal_hp</th>\n",
       "      <th>berat_hp</th>\n",
       "      <th>...</th>\n",
       "      <th>kamera_belakang_mp</th>\n",
       "      <th>px_panjang</th>\n",
       "      <th>px_lebar</th>\n",
       "      <th>kapasitas_ram</th>\n",
       "      <th>panjang_layar</th>\n",
       "      <th>lebar_layar</th>\n",
       "      <th>waktu_telfon</th>\n",
       "      <th>three_g</th>\n",
       "      <th>touch_screen</th>\n",
       "      <th>wifi</th>\n",
       "    </tr>\n",
       "  </thead>\n",
       "  <tbody>\n",
       "    <tr>\n",
       "      <th>0</th>\n",
       "      <td>405</td>\n",
       "      <td>1454</td>\n",
       "      <td>1</td>\n",
       "      <td>0.5</td>\n",
       "      <td>1</td>\n",
       "      <td>1</td>\n",
       "      <td>0</td>\n",
       "      <td>34</td>\n",
       "      <td>0.7</td>\n",
       "      <td>83</td>\n",
       "      <td>...</td>\n",
       "      <td>3</td>\n",
       "      <td>250</td>\n",
       "      <td>1033</td>\n",
       "      <td>3419</td>\n",
       "      <td>7</td>\n",
       "      <td>5</td>\n",
       "      <td>5</td>\n",
       "      <td>1</td>\n",
       "      <td>1</td>\n",
       "      <td>0</td>\n",
       "    </tr>\n",
       "    <tr>\n",
       "      <th>1</th>\n",
       "      <td>1190</td>\n",
       "      <td>1092</td>\n",
       "      <td>1</td>\n",
       "      <td>0.5</td>\n",
       "      <td>1</td>\n",
       "      <td>10</td>\n",
       "      <td>0</td>\n",
       "      <td>11</td>\n",
       "      <td>0.5</td>\n",
       "      <td>167</td>\n",
       "      <td>...</td>\n",
       "      <td>14</td>\n",
       "      <td>468</td>\n",
       "      <td>571</td>\n",
       "      <td>737</td>\n",
       "      <td>14</td>\n",
       "      <td>4</td>\n",
       "      <td>11</td>\n",
       "      <td>0</td>\n",
       "      <td>1</td>\n",
       "      <td>0</td>\n",
       "    </tr>\n",
       "    <tr>\n",
       "      <th>2</th>\n",
       "      <td>1132</td>\n",
       "      <td>1524</td>\n",
       "      <td>1</td>\n",
       "      <td>1.8</td>\n",
       "      <td>1</td>\n",
       "      <td>0</td>\n",
       "      <td>1</td>\n",
       "      <td>10</td>\n",
       "      <td>0.6</td>\n",
       "      <td>174</td>\n",
       "      <td>...</td>\n",
       "      <td>1</td>\n",
       "      <td>154</td>\n",
       "      <td>550</td>\n",
       "      <td>2678</td>\n",
       "      <td>16</td>\n",
       "      <td>5</td>\n",
       "      <td>13</td>\n",
       "      <td>1</td>\n",
       "      <td>0</td>\n",
       "      <td>1</td>\n",
       "    </tr>\n",
       "    <tr>\n",
       "      <th>3</th>\n",
       "      <td>731</td>\n",
       "      <td>1807</td>\n",
       "      <td>1</td>\n",
       "      <td>2.1</td>\n",
       "      <td>0</td>\n",
       "      <td>2</td>\n",
       "      <td>1</td>\n",
       "      <td>49</td>\n",
       "      <td>0.8</td>\n",
       "      <td>125</td>\n",
       "      <td>...</td>\n",
       "      <td>10</td>\n",
       "      <td>337</td>\n",
       "      <td>1384</td>\n",
       "      <td>1906</td>\n",
       "      <td>17</td>\n",
       "      <td>13</td>\n",
       "      <td>13</td>\n",
       "      <td>0</td>\n",
       "      <td>1</td>\n",
       "      <td>1</td>\n",
       "    </tr>\n",
       "    <tr>\n",
       "      <th>4</th>\n",
       "      <td>1754</td>\n",
       "      <td>1086</td>\n",
       "      <td>1</td>\n",
       "      <td>1.7</td>\n",
       "      <td>1</td>\n",
       "      <td>0</td>\n",
       "      <td>1</td>\n",
       "      <td>43</td>\n",
       "      <td>0.2</td>\n",
       "      <td>111</td>\n",
       "      <td>...</td>\n",
       "      <td>1</td>\n",
       "      <td>56</td>\n",
       "      <td>1150</td>\n",
       "      <td>3285</td>\n",
       "      <td>11</td>\n",
       "      <td>5</td>\n",
       "      <td>17</td>\n",
       "      <td>1</td>\n",
       "      <td>1</td>\n",
       "      <td>0</td>\n",
       "    </tr>\n",
       "  </tbody>\n",
       "</table>\n",
       "<p>5 rows × 21 columns</p>\n",
       "</div>"
      ],
      "text/plain": [
       "   index  daya_baterai  bluetooth  kecepatan_clock  dual_sim  kamera_depan  \\\n",
       "0    405          1454          1              0.5         1             1   \n",
       "1   1190          1092          1              0.5         1            10   \n",
       "2   1132          1524          1              1.8         1             0   \n",
       "3    731          1807          1              2.1         0             2   \n",
       "4   1754          1086          1              1.7         1             0   \n",
       "\n",
       "   four_g  memori_internal  tebal_hp  berat_hp  ...  kamera_belakang_mp  \\\n",
       "0       0               34       0.7        83  ...                   3   \n",
       "1       0               11       0.5       167  ...                  14   \n",
       "2       1               10       0.6       174  ...                   1   \n",
       "3       1               49       0.8       125  ...                  10   \n",
       "4       1               43       0.2       111  ...                   1   \n",
       "\n",
       "   px_panjang  px_lebar  kapasitas_ram  panjang_layar  lebar_layar  \\\n",
       "0         250      1033           3419              7            5   \n",
       "1         468       571            737             14            4   \n",
       "2         154       550           2678             16            5   \n",
       "3         337      1384           1906             17           13   \n",
       "4          56      1150           3285             11            5   \n",
       "\n",
       "   waktu_telfon  three_g  touch_screen  wifi  \n",
       "0             5        1             1     0  \n",
       "1            11        0             1     0  \n",
       "2            13        1             0     1  \n",
       "3            13        0             1     1  \n",
       "4            17        1             1     0  \n",
       "\n",
       "[5 rows x 21 columns]"
      ]
     },
     "metadata": {},
     "output_type": "display_data"
    }
   ],
   "source": [
    "print('Data X hasil drop')\n",
    "display(X.head())\n",
    "print('Data price range dari data x')\n",
    "display(y.head())\n",
    "print('Data yang akan diprediksi')\n",
    "display(X_new.head())"
   ]
  },
  {
   "cell_type": "code",
   "execution_count": 6,
   "metadata": {},
   "outputs": [],
   "source": [
    "from sklearn.model_selection import train_test_split\n",
    "\n",
    "X_train, X_test, y_train, y_test = train_test_split(X, y, test_size = 0.4)"
   ]
  },
  {
   "cell_type": "code",
   "execution_count": 9,
   "metadata": {},
   "outputs": [],
   "source": [
    "from sklearn.neighbors import KNeighborsClassifier\n",
    "modell = KNeighborsClassifier()"
   ]
  },
  {
   "cell_type": "code",
   "execution_count": 28,
   "metadata": {},
   "outputs": [],
   "source": [
    "from sklearn.model_selection import GridSearchCV\n",
    "from sklearn.metrics import accuracy_score"
   ]
  },
  {
   "cell_type": "code",
   "execution_count": 29,
   "metadata": {},
   "outputs": [],
   "source": [
    "param_grid = {'n_neighbors': np.arange(6,20),'weights':['uniform', 'distance'], 'algorithm': ['auto', 'ball_tree', 'kd_tree', 'brute']}\n",
    "gscv = GridSearchCV(modell, param_grid, cv=5, scoring='accuracy')"
   ]
  },
  {
   "cell_type": "code",
   "execution_count": 30,
   "metadata": {},
   "outputs": [
    {
     "data": {
      "text/plain": [
       "GridSearchCV(cv=5, estimator=KNeighborsClassifier(),\n",
       "             param_grid={'algorithm': ['auto', 'ball_tree', 'kd_tree', 'brute'],\n",
       "                         'n_neighbors': array([ 6,  7,  8,  9, 10, 11, 12, 13, 14, 15, 16, 17, 18, 19]),\n",
       "                         'weights': ['uniform', 'distance']},\n",
       "             scoring='accuracy')"
      ]
     },
     "execution_count": 30,
     "metadata": {},
     "output_type": "execute_result"
    }
   ],
   "source": [
    "gscv.fit(X_train, y_train)"
   ]
  },
  {
   "cell_type": "code",
   "execution_count": 31,
   "metadata": {},
   "outputs": [
    {
     "data": {
      "text/plain": [
       "{'algorithm': 'auto', 'n_neighbors': 10, 'weights': 'distance'}"
      ]
     },
     "execution_count": 31,
     "metadata": {},
     "output_type": "execute_result"
    }
   ],
   "source": [
    "gscv.best_params_"
   ]
  },
  {
   "cell_type": "code",
   "execution_count": 32,
   "metadata": {},
   "outputs": [
    {
     "data": {
      "text/plain": [
       "0.9111111111111111"
      ]
     },
     "execution_count": 32,
     "metadata": {},
     "output_type": "execute_result"
    }
   ],
   "source": [
    "gscv.best_score_"
   ]
  },
  {
   "cell_type": "code",
   "execution_count": 34,
   "metadata": {},
   "outputs": [
    {
     "data": {
      "text/plain": [
       "KNeighborsClassifier(n_neighbors=10)"
      ]
     },
     "execution_count": 34,
     "metadata": {},
     "output_type": "execute_result"
    }
   ],
   "source": [
    "model_knn = KNeighborsClassifier(n_neighbors= 10, weights = 'uniform', algorithm = 'auto')\n",
    "model_knn.fit(X_train, y_train)"
   ]
  },
  {
   "cell_type": "code",
   "execution_count": 37,
   "metadata": {},
   "outputs": [],
   "source": [
    "y_pred = model_knn.predict(X_new)"
   ]
  },
  {
   "cell_type": "code",
   "execution_count": 44,
   "metadata": {},
   "outputs": [
    {
     "data": {
      "text/html": [
       "<div>\n",
       "<style scoped>\n",
       "    .dataframe tbody tr th:only-of-type {\n",
       "        vertical-align: middle;\n",
       "    }\n",
       "\n",
       "    .dataframe tbody tr th {\n",
       "        vertical-align: top;\n",
       "    }\n",
       "\n",
       "    .dataframe thead th {\n",
       "        text-align: right;\n",
       "    }\n",
       "</style>\n",
       "<table border=\"1\" class=\"dataframe\">\n",
       "  <thead>\n",
       "    <tr style=\"text-align: right;\">\n",
       "      <th></th>\n",
       "      <th>price_range</th>\n",
       "    </tr>\n",
       "  </thead>\n",
       "  <tbody>\n",
       "    <tr>\n",
       "      <th>0</th>\n",
       "      <td>3</td>\n",
       "    </tr>\n",
       "    <tr>\n",
       "      <th>1</th>\n",
       "      <td>0</td>\n",
       "    </tr>\n",
       "    <tr>\n",
       "      <th>2</th>\n",
       "      <td>2</td>\n",
       "    </tr>\n",
       "    <tr>\n",
       "      <th>3</th>\n",
       "      <td>2</td>\n",
       "    </tr>\n",
       "    <tr>\n",
       "      <th>4</th>\n",
       "      <td>2</td>\n",
       "    </tr>\n",
       "  </tbody>\n",
       "</table>\n",
       "</div>"
      ],
      "text/plain": [
       "   price_range\n",
       "0            3\n",
       "1            0\n",
       "2            2\n",
       "3            2\n",
       "4            2"
      ]
     },
     "execution_count": 44,
     "metadata": {},
     "output_type": "execute_result"
    }
   ],
   "source": [
    "colnames = ['price_range']\n",
    "dfprice = pd.DataFrame(y_pred, columns=colnames)\n",
    "\n",
    "dfprice.head()"
   ]
  },
  {
   "cell_type": "code",
   "execution_count": 46,
   "metadata": {},
   "outputs": [
    {
     "data": {
      "text/html": [
       "<div>\n",
       "<style scoped>\n",
       "    .dataframe tbody tr th:only-of-type {\n",
       "        vertical-align: middle;\n",
       "    }\n",
       "\n",
       "    .dataframe tbody tr th {\n",
       "        vertical-align: top;\n",
       "    }\n",
       "\n",
       "    .dataframe thead th {\n",
       "        text-align: right;\n",
       "    }\n",
       "</style>\n",
       "<table border=\"1\" class=\"dataframe\">\n",
       "  <thead>\n",
       "    <tr style=\"text-align: right;\">\n",
       "      <th></th>\n",
       "      <th>index</th>\n",
       "      <th>daya_baterai</th>\n",
       "      <th>bluetooth</th>\n",
       "      <th>kecepatan_clock</th>\n",
       "      <th>dual_sim</th>\n",
       "      <th>kamera_depan</th>\n",
       "      <th>four_g</th>\n",
       "      <th>memori_internal</th>\n",
       "      <th>tebal_hp</th>\n",
       "      <th>berat_hp</th>\n",
       "      <th>...</th>\n",
       "      <th>px_panjang</th>\n",
       "      <th>px_lebar</th>\n",
       "      <th>kapasitas_ram</th>\n",
       "      <th>panjang_layar</th>\n",
       "      <th>lebar_layar</th>\n",
       "      <th>waktu_telfon</th>\n",
       "      <th>three_g</th>\n",
       "      <th>touch_screen</th>\n",
       "      <th>wifi</th>\n",
       "      <th>price_range</th>\n",
       "    </tr>\n",
       "  </thead>\n",
       "  <tbody>\n",
       "    <tr>\n",
       "      <th>0</th>\n",
       "      <td>405</td>\n",
       "      <td>1454</td>\n",
       "      <td>1</td>\n",
       "      <td>0.5</td>\n",
       "      <td>1</td>\n",
       "      <td>1</td>\n",
       "      <td>0</td>\n",
       "      <td>34</td>\n",
       "      <td>0.7</td>\n",
       "      <td>83</td>\n",
       "      <td>...</td>\n",
       "      <td>250</td>\n",
       "      <td>1033</td>\n",
       "      <td>3419</td>\n",
       "      <td>7</td>\n",
       "      <td>5</td>\n",
       "      <td>5</td>\n",
       "      <td>1</td>\n",
       "      <td>1</td>\n",
       "      <td>0</td>\n",
       "      <td>3</td>\n",
       "    </tr>\n",
       "    <tr>\n",
       "      <th>1</th>\n",
       "      <td>1190</td>\n",
       "      <td>1092</td>\n",
       "      <td>1</td>\n",
       "      <td>0.5</td>\n",
       "      <td>1</td>\n",
       "      <td>10</td>\n",
       "      <td>0</td>\n",
       "      <td>11</td>\n",
       "      <td>0.5</td>\n",
       "      <td>167</td>\n",
       "      <td>...</td>\n",
       "      <td>468</td>\n",
       "      <td>571</td>\n",
       "      <td>737</td>\n",
       "      <td>14</td>\n",
       "      <td>4</td>\n",
       "      <td>11</td>\n",
       "      <td>0</td>\n",
       "      <td>1</td>\n",
       "      <td>0</td>\n",
       "      <td>0</td>\n",
       "    </tr>\n",
       "    <tr>\n",
       "      <th>2</th>\n",
       "      <td>1132</td>\n",
       "      <td>1524</td>\n",
       "      <td>1</td>\n",
       "      <td>1.8</td>\n",
       "      <td>1</td>\n",
       "      <td>0</td>\n",
       "      <td>1</td>\n",
       "      <td>10</td>\n",
       "      <td>0.6</td>\n",
       "      <td>174</td>\n",
       "      <td>...</td>\n",
       "      <td>154</td>\n",
       "      <td>550</td>\n",
       "      <td>2678</td>\n",
       "      <td>16</td>\n",
       "      <td>5</td>\n",
       "      <td>13</td>\n",
       "      <td>1</td>\n",
       "      <td>0</td>\n",
       "      <td>1</td>\n",
       "      <td>2</td>\n",
       "    </tr>\n",
       "    <tr>\n",
       "      <th>3</th>\n",
       "      <td>731</td>\n",
       "      <td>1807</td>\n",
       "      <td>1</td>\n",
       "      <td>2.1</td>\n",
       "      <td>0</td>\n",
       "      <td>2</td>\n",
       "      <td>1</td>\n",
       "      <td>49</td>\n",
       "      <td>0.8</td>\n",
       "      <td>125</td>\n",
       "      <td>...</td>\n",
       "      <td>337</td>\n",
       "      <td>1384</td>\n",
       "      <td>1906</td>\n",
       "      <td>17</td>\n",
       "      <td>13</td>\n",
       "      <td>13</td>\n",
       "      <td>0</td>\n",
       "      <td>1</td>\n",
       "      <td>1</td>\n",
       "      <td>2</td>\n",
       "    </tr>\n",
       "    <tr>\n",
       "      <th>4</th>\n",
       "      <td>1754</td>\n",
       "      <td>1086</td>\n",
       "      <td>1</td>\n",
       "      <td>1.7</td>\n",
       "      <td>1</td>\n",
       "      <td>0</td>\n",
       "      <td>1</td>\n",
       "      <td>43</td>\n",
       "      <td>0.2</td>\n",
       "      <td>111</td>\n",
       "      <td>...</td>\n",
       "      <td>56</td>\n",
       "      <td>1150</td>\n",
       "      <td>3285</td>\n",
       "      <td>11</td>\n",
       "      <td>5</td>\n",
       "      <td>17</td>\n",
       "      <td>1</td>\n",
       "      <td>1</td>\n",
       "      <td>0</td>\n",
       "      <td>2</td>\n",
       "    </tr>\n",
       "  </tbody>\n",
       "</table>\n",
       "<p>5 rows × 22 columns</p>\n",
       "</div>"
      ],
      "text/plain": [
       "   index  daya_baterai  bluetooth  kecepatan_clock  dual_sim  kamera_depan  \\\n",
       "0    405          1454          1              0.5         1             1   \n",
       "1   1190          1092          1              0.5         1            10   \n",
       "2   1132          1524          1              1.8         1             0   \n",
       "3    731          1807          1              2.1         0             2   \n",
       "4   1754          1086          1              1.7         1             0   \n",
       "\n",
       "   four_g  memori_internal  tebal_hp  berat_hp  ...  px_panjang  px_lebar  \\\n",
       "0       0               34       0.7        83  ...         250      1033   \n",
       "1       0               11       0.5       167  ...         468       571   \n",
       "2       1               10       0.6       174  ...         154       550   \n",
       "3       1               49       0.8       125  ...         337      1384   \n",
       "4       1               43       0.2       111  ...          56      1150   \n",
       "\n",
       "   kapasitas_ram  panjang_layar  lebar_layar  waktu_telfon  three_g  \\\n",
       "0           3419              7            5             5        1   \n",
       "1            737             14            4            11        0   \n",
       "2           2678             16            5            13        1   \n",
       "3           1906             17           13            13        0   \n",
       "4           3285             11            5            17        1   \n",
       "\n",
       "   touch_screen  wifi  price_range  \n",
       "0             1     0            3  \n",
       "1             1     0            0  \n",
       "2             0     1            2  \n",
       "3             1     1            2  \n",
       "4             1     0            2  \n",
       "\n",
       "[5 rows x 22 columns]"
      ]
     },
     "execution_count": 46,
     "metadata": {},
     "output_type": "execute_result"
    }
   ],
   "source": [
    "df_hasil = pd.merge(df_test, dfprice, left_index=True, right_index=True)\n",
    "df_hasil.head()"
   ]
  },
  {
   "cell_type": "code",
   "execution_count": 47,
   "metadata": {},
   "outputs": [],
   "source": [
    "new_fourg = {\n",
    "    0: 'Tidak',\n",
    "    1: 'Ya'\n",
    "}"
   ]
  },
  {
   "cell_type": "code",
   "execution_count": 48,
   "metadata": {},
   "outputs": [],
   "source": [
    "x_index = df_hasil.drop(['index', 'price_range'], axis=1)\n",
    "y_index = df_hasil['index']\n",
    "y_price = df_hasil['price_range']"
   ]
  },
  {
   "cell_type": "code",
   "execution_count": 49,
   "metadata": {},
   "outputs": [
    {
     "data": {
      "text/html": [
       "<div>\n",
       "<style scoped>\n",
       "    .dataframe tbody tr th:only-of-type {\n",
       "        vertical-align: middle;\n",
       "    }\n",
       "\n",
       "    .dataframe tbody tr th {\n",
       "        vertical-align: top;\n",
       "    }\n",
       "\n",
       "    .dataframe thead th {\n",
       "        text-align: right;\n",
       "    }\n",
       "</style>\n",
       "<table border=\"1\" class=\"dataframe\">\n",
       "  <thead>\n",
       "    <tr style=\"text-align: right;\">\n",
       "      <th></th>\n",
       "      <th>index</th>\n",
       "      <th>price_range</th>\n",
       "    </tr>\n",
       "  </thead>\n",
       "  <tbody>\n",
       "    <tr>\n",
       "      <th>0</th>\n",
       "      <td>405</td>\n",
       "      <td>3</td>\n",
       "    </tr>\n",
       "    <tr>\n",
       "      <th>1</th>\n",
       "      <td>1190</td>\n",
       "      <td>0</td>\n",
       "    </tr>\n",
       "    <tr>\n",
       "      <th>2</th>\n",
       "      <td>1132</td>\n",
       "      <td>2</td>\n",
       "    </tr>\n",
       "    <tr>\n",
       "      <th>3</th>\n",
       "      <td>731</td>\n",
       "      <td>2</td>\n",
       "    </tr>\n",
       "    <tr>\n",
       "      <th>4</th>\n",
       "      <td>1754</td>\n",
       "      <td>2</td>\n",
       "    </tr>\n",
       "  </tbody>\n",
       "</table>\n",
       "</div>"
      ],
      "text/plain": [
       "   index  price_range\n",
       "0    405            3\n",
       "1   1190            0\n",
       "2   1132            2\n",
       "3    731            2\n",
       "4   1754            2"
      ]
     },
     "execution_count": 49,
     "metadata": {},
     "output_type": "execute_result"
    }
   ],
   "source": [
    "df_pengamatan = pd.merge(y_index, y_price, left_index=True, right_index=True)\n",
    "df_pengamatan.head()"
   ]
  },
  {
   "cell_type": "code",
   "execution_count": 59,
   "metadata": {},
   "outputs": [
    {
     "data": {
      "image/png": "[encoded data removed]",
      "text/plain": [
       "<Figure size 432x288 with 1 Axes>"
      ]
     },
     "metadata": {
      "needs_background": "light"
     },
     "output_type": "display_data"
    }
   ],
   "source": [
    "df_pengamatan['price_range'].value_counts().plot.bar()\n",
    "plt.tight_layout()\n",
    "plt.show()"
   ]
  }
 ],
 "metadata": {
  "kernelspec": {
   "display_name": "Python 3",
   "language": "python",
   "name": "python3"
  },
  "language_info": {
   "codemirror_mode": {
    "name": "ipython",
    "version": 3
   },
   "file_extension": ".py",
   "mimetype": "text/x-python",
   "name": "python",
   "nbconvert_exporter": "python",
   "pygments_lexer": "ipython3",
   "version": "3.8.6"
  }
 },
 "nbformat": 4,
 "nbformat_minor": 4
}
